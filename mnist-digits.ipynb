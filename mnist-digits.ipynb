{
 "cells": [
  {
   "cell_type": "code",
   "execution_count": 1,
   "metadata": {},
   "outputs": [],
   "source": [
    "import pandas as pd\n",
    "import numpy as np\n",
    "import seaborn as sns\n",
    "import matplotlib.pyplot as plt\n",
    "import matplotlib as mlt"
   ]
  },
  {
   "cell_type": "code",
   "execution_count": 2,
   "metadata": {},
   "outputs": [
    {
     "name": "stderr",
     "output_type": "stream",
     "text": [
      "Using TensorFlow backend.\n"
     ]
    }
   ],
   "source": [
    "import tensorflow as tf\n",
    "import keras"
   ]
  },
  {
   "cell_type": "code",
   "execution_count": 3,
   "metadata": {},
   "outputs": [],
   "source": [
    "from tensorflow.keras.callbacks import TensorBoard"
   ]
  },
  {
   "cell_type": "code",
   "execution_count": 4,
   "metadata": {},
   "outputs": [],
   "source": [
    "tb = TensorBoard(log_dir=\"logs\\{}\".format(\"Self_model_1\"))"
   ]
  },
  {
   "cell_type": "code",
   "execution_count": 5,
   "metadata": {},
   "outputs": [],
   "source": [
    "mnist = keras.datasets.mnist"
   ]
  },
  {
   "cell_type": "code",
   "execution_count": 6,
   "metadata": {},
   "outputs": [],
   "source": [
    "(train_X, train_y), (test_X, test_y) = mnist.load_data()"
   ]
  },
  {
   "cell_type": "code",
   "execution_count": 7,
   "metadata": {},
   "outputs": [
    {
     "data": {
      "text/plain": [
       "<matplotlib.image.AxesImage at 0x24637985160>"
      ]
     },
     "execution_count": 7,
     "metadata": {},
     "output_type": "execute_result"
    },
    {
     "data": {
      "image/png": "[encoded data removed]",
      "text/plain": [
       "<Figure size 432x288 with 1 Axes>"
      ]
     },
     "metadata": {
      "needs_background": "light"
     },
     "output_type": "display_data"
    }
   ],
   "source": [
    "plt.imshow(train_X[0])"
   ]
  },
  {
   "cell_type": "markdown",
   "metadata": {},
   "source": [
    "This shows that the image is infact a grayscale image and not a coloured images else it would have a 3 Dimension for RGB."
   ]
  },
  {
   "cell_type": "markdown",
   "metadata": {},
   "source": [
    "## Data Normalization"
   ]
  },
  {
   "cell_type": "code",
   "execution_count": 8,
   "metadata": {},
   "outputs": [],
   "source": [
    "x_train_n = (train_X)/255.0\n",
    "x_test_n = test_X/255.0"
   ]
  },
  {
   "cell_type": "code",
   "execution_count": 9,
   "metadata": {},
   "outputs": [],
   "source": [
    "x_valid,x_train = x_train_n[:30000],x_train_n[30000:]\n",
    "y_valid,y_train = train_y[:30000],train_y[30000:]\n",
    "x_test = x_test_n"
   ]
  },
  {
   "cell_type": "markdown",
   "metadata": {},
   "source": [
    "## Describing the architecture of the network"
   ]
  },
  {
   "cell_type": "code",
   "execution_count": 10,
   "metadata": {},
   "outputs": [],
   "source": [
    "np.random.seed(42)\n",
    "tf.random.set_random_seed(42)"
   ]
  },
  {
   "cell_type": "code",
   "execution_count": 11,
   "metadata": {},
   "outputs": [],
   "source": [
    "model = tf.keras.models.Sequential()"
   ]
  },
  {
   "cell_type": "code",
   "execution_count": 12,
   "metadata": {},
   "outputs": [
    {
     "name": "stdout",
     "output_type": "stream",
     "text": [
      "WARNING:tensorflow:From C:\\ProgramData\\Anaconda3\\lib\\site-packages\\tensorflow\\python\\ops\\init_ops.py:1251: calling VarianceScaling.__init__ (from tensorflow.python.ops.init_ops) with dtype is deprecated and will be removed in a future version.\n",
      "Instructions for updating:\n",
      "Call initializer instance with the dtype argument instead of passing it to the constructor\n"
     ]
    }
   ],
   "source": [
    "model.add(tf.keras.layers.Flatten(input_shape=[28,28]))\n",
    "model.add(tf.keras.layers.Dense(64,activation=\"sigmoid\"))\n",
    "model.add(tf.keras.layers.Dense(128,activation=\"relu\"))\n",
    "model.add(tf.keras.layers.Dense(10,activation=\"softmax\"))"
   ]
  },
  {
   "cell_type": "code",
   "execution_count": 13,
   "metadata": {},
   "outputs": [],
   "source": [
    "from keras.optimizers import SGD"
   ]
  },
  {
   "cell_type": "code",
   "execution_count": 14,
   "metadata": {},
   "outputs": [],
   "source": [
    "sgd = SGD(learning_rate=0.01,name=\"SGD\")"
   ]
  },
  {
   "cell_type": "code",
   "execution_count": 15,
   "metadata": {},
   "outputs": [],
   "source": [
    "model.compile(loss=\"sparse_categorical_crossentropy\",optimizer = \"sgd\", metrics= ['accuracy'])"
   ]
  },
  {
   "cell_type": "code",
   "execution_count": 16,
   "metadata": {},
   "outputs": [
    {
     "data": {
      "text/plain": [
       "(30000, 28, 28)"
      ]
     },
     "execution_count": 16,
     "metadata": {},
     "output_type": "execute_result"
    }
   ],
   "source": [
    "x_train.shape"
   ]
  },
  {
   "cell_type": "code",
   "execution_count": 17,
   "metadata": {},
   "outputs": [
    {
     "data": {
      "text/plain": [
       "(30000,)"
      ]
     },
     "execution_count": 17,
     "metadata": {},
     "output_type": "execute_result"
    }
   ],
   "source": [
    "y_train.shape"
   ]
  },
  {
   "cell_type": "code",
   "execution_count": 18,
   "metadata": {},
   "outputs": [
    {
     "name": "stdout",
     "output_type": "stream",
     "text": [
      "Model: \"sequential\"\n",
      "_________________________________________________________________\n",
      "Layer (type)                 Output Shape              Param #   \n",
      "=================================================================\n",
      "flatten (Flatten)            (None, 784)               0         \n",
      "_________________________________________________________________\n",
      "dense (Dense)                (None, 64)                50240     \n",
      "_________________________________________________________________\n",
      "dense_1 (Dense)              (None, 128)               8320      \n",
      "_________________________________________________________________\n",
      "dense_2 (Dense)              (None, 10)                1290      \n",
      "=================================================================\n",
      "Total params: 59,850\n",
      "Trainable params: 59,850\n",
      "Non-trainable params: 0\n",
      "_________________________________________________________________\n"
     ]
    }
   ],
   "source": [
    "model.summary()"
   ]
  },
  {
   "cell_type": "code",
   "execution_count": 19,
   "metadata": {},
   "outputs": [
    {
     "name": "stdout",
     "output_type": "stream",
     "text": [
      "Train on 30000 samples, validate on 30000 samples\n",
      "Epoch 1/60\n",
      "30000/30000 [==============================] - 2s 81us/sample - loss: 1.9919 - acc: 0.4971 - val_loss: 1.5145 - val_acc: 0.6432\n",
      "Epoch 2/60\n",
      "30000/30000 [==============================] - 2s 70us/sample - loss: 1.0864 - acc: 0.7464 - val_loss: 0.8029 - val_acc: 0.7868\n",
      "Epoch 3/60\n",
      "30000/30000 [==============================] - 2s 68us/sample - loss: 0.6674 - acc: 0.8287 - val_loss: 0.5809 - val_acc: 0.8432\n",
      "Epoch 4/60\n",
      "30000/30000 [==============================] - 2s 65us/sample - loss: 0.5181 - acc: 0.8605 - val_loss: 0.4790 - val_acc: 0.8686\n",
      "Epoch 5/60\n",
      "30000/30000 [==============================] - 2s 62us/sample - loss: 0.4424 - acc: 0.8780 - val_loss: 0.4229 - val_acc: 0.8832\n",
      "Epoch 6/60\n",
      "30000/30000 [==============================] - 2s 68us/sample - loss: 0.3976 - acc: 0.8895 - val_loss: 0.3891 - val_acc: 0.8895\n",
      "Epoch 7/60\n",
      "30000/30000 [==============================] - 2s 65us/sample - loss: 0.3680 - acc: 0.8957 - val_loss: 0.3657 - val_acc: 0.8962\n",
      "Epoch 8/60\n",
      "30000/30000 [==============================] - 2s 70us/sample - loss: 0.3473 - acc: 0.9022 - val_loss: 0.3492 - val_acc: 0.9004\n",
      "Epoch 9/60\n",
      "30000/30000 [==============================] - 3s 92us/sample - loss: 0.3314 - acc: 0.9059 - val_loss: 0.3350 - val_acc: 0.9058\n",
      "Epoch 10/60\n",
      "30000/30000 [==============================] - 2s 71us/sample - loss: 0.3183 - acc: 0.9084 - val_loss: 0.3245 - val_acc: 0.9072\n",
      "Epoch 11/60\n",
      "30000/30000 [==============================] - 2s 65us/sample - loss: 0.3080 - acc: 0.9108 - val_loss: 0.3154 - val_acc: 0.9099\n",
      "Epoch 12/60\n",
      "30000/30000 [==============================] - 2s 79us/sample - loss: 0.2987 - acc: 0.9128 - val_loss: 0.3078 - val_acc: 0.9114\n",
      "Epoch 13/60\n",
      "30000/30000 [==============================] - 2s 70us/sample - loss: 0.2906 - acc: 0.9162 - val_loss: 0.3014 - val_acc: 0.9136\n",
      "Epoch 14/60\n",
      "30000/30000 [==============================] - 2s 71us/sample - loss: 0.2831 - acc: 0.9185 - val_loss: 0.2949 - val_acc: 0.9153\n",
      "Epoch 15/60\n",
      "30000/30000 [==============================] - 2s 70us/sample - loss: 0.2763 - acc: 0.9192 - val_loss: 0.2911 - val_acc: 0.9167\n",
      "Epoch 16/60\n",
      "30000/30000 [==============================] - 2s 76us/sample - loss: 0.2701 - acc: 0.9219 - val_loss: 0.2842 - val_acc: 0.9166\n",
      "Epoch 17/60\n",
      "30000/30000 [==============================] - 2s 68us/sample - loss: 0.2641 - acc: 0.9231 - val_loss: 0.2843 - val_acc: 0.9161\n",
      "Epoch 18/60\n",
      "30000/30000 [==============================] - 2s 71us/sample - loss: 0.2585 - acc: 0.9248 - val_loss: 0.2763 - val_acc: 0.9198\n",
      "Epoch 19/60\n",
      "30000/30000 [==============================] - 2s 77us/sample - loss: 0.2533 - acc: 0.9270 - val_loss: 0.2694 - val_acc: 0.9216\n",
      "Epoch 20/60\n",
      "30000/30000 [==============================] - 2s 67us/sample - loss: 0.2480 - acc: 0.9276 - val_loss: 0.2681 - val_acc: 0.9220\n",
      "Epoch 21/60\n",
      "30000/30000 [==============================] - 2s 65us/sample - loss: 0.2430 - acc: 0.9292 - val_loss: 0.2654 - val_acc: 0.9219\n",
      "Epoch 22/60\n",
      "30000/30000 [==============================] - 2s 74us/sample - loss: 0.2385 - acc: 0.9303 - val_loss: 0.2596 - val_acc: 0.9239\n",
      "Epoch 23/60\n",
      "30000/30000 [==============================] - 2s 66us/sample - loss: 0.2336 - acc: 0.9319 - val_loss: 0.2553 - val_acc: 0.9242\n",
      "Epoch 24/60\n",
      "30000/30000 [==============================] - 3s 89us/sample - loss: 0.2294 - acc: 0.9332 - val_loss: 0.2507 - val_acc: 0.9261\n",
      "Epoch 25/60\n",
      "30000/30000 [==============================] - 2s 81us/sample - loss: 0.2243 - acc: 0.9348 - val_loss: 0.2468 - val_acc: 0.9270\n",
      "Epoch 26/60\n",
      "30000/30000 [==============================] - 3s 84us/sample - loss: 0.2202 - acc: 0.9365 - val_loss: 0.2442 - val_acc: 0.9286\n",
      "Epoch 27/60\n",
      "30000/30000 [==============================] - 2s 69us/sample - loss: 0.2162 - acc: 0.9376 - val_loss: 0.2420 - val_acc: 0.9285\n",
      "Epoch 28/60\n",
      "30000/30000 [==============================] - 2s 68us/sample - loss: 0.2123 - acc: 0.9378 - val_loss: 0.2375 - val_acc: 0.9306\n",
      "Epoch 29/60\n",
      "30000/30000 [==============================] - 2s 67us/sample - loss: 0.2081 - acc: 0.9395 - val_loss: 0.2327 - val_acc: 0.9317\n",
      "Epoch 30/60\n",
      "30000/30000 [==============================] - 2s 69us/sample - loss: 0.2044 - acc: 0.9410 - val_loss: 0.2287 - val_acc: 0.9324\n",
      "Epoch 31/60\n",
      "30000/30000 [==============================] - 2s 79us/sample - loss: 0.2005 - acc: 0.9425 - val_loss: 0.2258 - val_acc: 0.9324\n",
      "Epoch 32/60\n",
      "30000/30000 [==============================] - 2s 71us/sample - loss: 0.1973 - acc: 0.9430 - val_loss: 0.2244 - val_acc: 0.9336\n",
      "Epoch 33/60\n",
      "30000/30000 [==============================] - 2s 65us/sample - loss: 0.1936 - acc: 0.9452 - val_loss: 0.2201 - val_acc: 0.9348\n",
      "Epoch 34/60\n",
      "30000/30000 [==============================] - 2s 67us/sample - loss: 0.1901 - acc: 0.9453 - val_loss: 0.2179 - val_acc: 0.9355\n",
      "Epoch 35/60\n",
      "30000/30000 [==============================] - 2s 68us/sample - loss: 0.1867 - acc: 0.9459 - val_loss: 0.2163 - val_acc: 0.9353\n",
      "Epoch 36/60\n",
      "30000/30000 [==============================] - 2s 62us/sample - loss: 0.1836 - acc: 0.9470 - val_loss: 0.2131 - val_acc: 0.9368\n",
      "Epoch 37/60\n",
      "30000/30000 [==============================] - 2s 76us/sample - loss: 0.1805 - acc: 0.9485 - val_loss: 0.2116 - val_acc: 0.9373\n",
      "Epoch 38/60\n",
      "30000/30000 [==============================] - 2s 69us/sample - loss: 0.1776 - acc: 0.9491 - val_loss: 0.2083 - val_acc: 0.9382\n",
      "Epoch 39/60\n",
      "30000/30000 [==============================] - 2s 78us/sample - loss: 0.1744 - acc: 0.9501 - val_loss: 0.2059 - val_acc: 0.9383\n",
      "Epoch 40/60\n",
      "30000/30000 [==============================] - 2s 76us/sample - loss: 0.1717 - acc: 0.9505 - val_loss: 0.2044 - val_acc: 0.9386\n",
      "Epoch 41/60\n",
      "30000/30000 [==============================] - 2s 66us/sample - loss: 0.1688 - acc: 0.9515 - val_loss: 0.2023 - val_acc: 0.9398\n",
      "Epoch 42/60\n",
      "30000/30000 [==============================] - 2s 65us/sample - loss: 0.1661 - acc: 0.9526 - val_loss: 0.1994 - val_acc: 0.9407\n",
      "Epoch 43/60\n",
      "30000/30000 [==============================] - 2s 74us/sample - loss: 0.1631 - acc: 0.9529 - val_loss: 0.1969 - val_acc: 0.9418\n",
      "Epoch 44/60\n",
      "30000/30000 [==============================] - 2s 64us/sample - loss: 0.1607 - acc: 0.9539 - val_loss: 0.1949 - val_acc: 0.9421\n",
      "Epoch 45/60\n",
      "30000/30000 [==============================] - 2s 68us/sample - loss: 0.1584 - acc: 0.9542 - val_loss: 0.1916 - val_acc: 0.9432\n",
      "Epoch 46/60\n",
      "30000/30000 [==============================] - 2s 72us/sample - loss: 0.1559 - acc: 0.9549 - val_loss: 0.1923 - val_acc: 0.9432\n",
      "Epoch 47/60\n",
      "30000/30000 [==============================] - 2s 81us/sample - loss: 0.1532 - acc: 0.9566 - val_loss: 0.1900 - val_acc: 0.9437\n",
      "Epoch 48/60\n",
      "30000/30000 [==============================] - 2s 73us/sample - loss: 0.1511 - acc: 0.9568 - val_loss: 0.1875 - val_acc: 0.9448\n",
      "Epoch 49/60\n",
      "30000/30000 [==============================] - 2s 77us/sample - loss: 0.1484 - acc: 0.9573 - val_loss: 0.1853 - val_acc: 0.9449\n",
      "Epoch 50/60\n",
      "30000/30000 [==============================] - 2s 76us/sample - loss: 0.1465 - acc: 0.9580 - val_loss: 0.1840 - val_acc: 0.9451\n",
      "Epoch 51/60\n",
      "30000/30000 [==============================] - 2s 71us/sample - loss: 0.1442 - acc: 0.9583 - val_loss: 0.1820 - val_acc: 0.9460\n",
      "Epoch 52/60\n",
      "30000/30000 [==============================] - 2s 69us/sample - loss: 0.1420 - acc: 0.9587 - val_loss: 0.1803 - val_acc: 0.9460\n",
      "Epoch 53/60\n",
      "30000/30000 [==============================] - 3s 88us/sample - loss: 0.1399 - acc: 0.9599 - val_loss: 0.1812 - val_acc: 0.9465\n",
      "Epoch 54/60\n",
      "30000/30000 [==============================] - 2s 77us/sample - loss: 0.1380 - acc: 0.9602 - val_loss: 0.1769 - val_acc: 0.9473\n",
      "Epoch 55/60\n",
      "30000/30000 [==============================] - 2s 81us/sample - loss: 0.1360 - acc: 0.9612 - val_loss: 0.1758 - val_acc: 0.9480\n",
      "Epoch 56/60\n",
      "30000/30000 [==============================] - 3s 84us/sample - loss: 0.1339 - acc: 0.9615 - val_loss: 0.1755 - val_acc: 0.9479\n",
      "Epoch 57/60\n",
      "30000/30000 [==============================] - 2s 75us/sample - loss: 0.1322 - acc: 0.9623 - val_loss: 0.1724 - val_acc: 0.9492\n",
      "Epoch 58/60\n",
      "30000/30000 [==============================] - 2s 78us/sample - loss: 0.1304 - acc: 0.9628 - val_loss: 0.1716 - val_acc: 0.9485\n",
      "Epoch 59/60\n"
     ]
    },
    {
     "name": "stdout",
     "output_type": "stream",
     "text": [
      "30000/30000 [==============================] - 3s 86us/sample - loss: 0.1288 - acc: 0.9631 - val_loss: 0.1691 - val_acc: 0.9493\n",
      "Epoch 60/60\n",
      "30000/30000 [==============================] - 3s 87us/sample - loss: 0.1267 - acc: 0.9643 - val_loss: 0.1688 - val_acc: 0.9489\n"
     ]
    }
   ],
   "source": [
    "model_history = model.fit(x_train,y_train,epochs= 60,validation_data= [x_valid,y_valid],callbacks=[tb])"
   ]
  },
  {
   "cell_type": "code",
   "execution_count": 20,
   "metadata": {},
   "outputs": [
    {
     "data": {
      "text/plain": [
       "{'batch_size': 32,\n",
       " 'epochs': 60,\n",
       " 'steps': None,\n",
       " 'samples': 30000,\n",
       " 'verbose': 0,\n",
       " 'do_validation': True,\n",
       " 'metrics': ['loss', 'acc', 'val_loss', 'val_acc']}"
      ]
     },
     "execution_count": 20,
     "metadata": {},
     "output_type": "execute_result"
    }
   ],
   "source": [
    "model_history.params"
   ]
  },
  {
   "cell_type": "code",
   "execution_count": 21,
   "metadata": {},
   "outputs": [],
   "source": [
    "weights,biases = model.layers[1].get_weights()"
   ]
  },
  {
   "cell_type": "code",
   "execution_count": 22,
   "metadata": {},
   "outputs": [
    {
     "data": {
      "text/plain": [
       "array([[ 0.0699972 , -0.016636  , -0.03537396, ...,  0.00141795,\n",
       "         0.02419212, -0.0568816 ],\n",
       "       [-0.07539292,  0.07408797,  0.0788788 , ..., -0.03601811,\n",
       "         0.01848768, -0.08221341],\n",
       "       [-0.01657557,  0.02755793, -0.0624108 , ...,  0.0131444 ,\n",
       "         0.00273632,  0.00613327],\n",
       "       ...,\n",
       "       [ 0.05499253,  0.00541238, -0.02016355, ...,  0.02767916,\n",
       "        -0.07299439, -0.03086143],\n",
       "       [-0.0221363 ,  0.07062673, -0.02173867, ...,  0.00245322,\n",
       "        -0.07075792,  0.05816441],\n",
       "       [-0.00878664, -0.03370789,  0.0558267 , ..., -0.04912586,\n",
       "         0.06164861,  0.04172406]], dtype=float32)"
      ]
     },
     "execution_count": 22,
     "metadata": {},
     "output_type": "execute_result"
    }
   ],
   "source": [
    "weights"
   ]
  },
  {
   "cell_type": "code",
   "execution_count": null,
   "metadata": {},
   "outputs": [],
   "source": []
  },
  {
   "cell_type": "code",
   "execution_count": 23,
   "metadata": {},
   "outputs": [
    {
     "data": {
      "image/png": "[encoded data removed]",
      "text/plain": [
       "<IPython.core.display.Image object>"
      ]
     },
     "execution_count": 23,
     "metadata": {},
     "output_type": "execute_result"
    }
   ],
   "source": [
    "import pydot\n",
    "tf.keras.utils.plot_model(model)"
   ]
  },
  {
   "cell_type": "code",
   "execution_count": 24,
   "metadata": {},
   "outputs": [
    {
     "data": {
      "image/png": "[encoded data removed]",
      "text/plain": [
       "<Figure size 576x360 with 1 Axes>"
      ]
     },
     "metadata": {
      "needs_background": "light"
     },
     "output_type": "display_data"
    }
   ],
   "source": [
    "pd.DataFrame(model_history.history).plot(figsize=(8,5))\n",
    "plt.grid(True)\n",
    "plt.gca().set_ylim(0,1)\n",
    "plt.show()"
   ]
  },
  {
   "cell_type": "code",
   "execution_count": 25,
   "metadata": {},
   "outputs": [
    {
     "name": "stdout",
     "output_type": "stream",
     "text": [
      "10000/10000 [==============================] - 0s 23us/sample - loss: 0.1594 - acc: 0.9523\n"
     ]
    },
    {
     "data": {
      "text/plain": [
       "[0.15937023254707455, 0.9523]"
      ]
     },
     "execution_count": 25,
     "metadata": {},
     "output_type": "execute_result"
    }
   ],
   "source": [
    "model.evaluate(x_test,test_y)"
   ]
  },
  {
   "cell_type": "code",
   "execution_count": 26,
   "metadata": {},
   "outputs": [],
   "source": [
    "new_x=x_test[:3]"
   ]
  },
  {
   "cell_type": "code",
   "execution_count": 27,
   "metadata": {},
   "outputs": [],
   "source": [
    "y_pred = model.predict_classes(x_test)"
   ]
  },
  {
   "cell_type": "code",
   "execution_count": 28,
   "metadata": {},
   "outputs": [
    {
     "data": {
      "text/plain": [
       "array([7, 2, 1, ..., 4, 5, 6], dtype=int64)"
      ]
     },
     "execution_count": 28,
     "metadata": {},
     "output_type": "execute_result"
    }
   ],
   "source": [
    "y_pred"
   ]
  },
  {
   "cell_type": "code",
   "execution_count": 29,
   "metadata": {},
   "outputs": [
    {
     "data": {
      "text/plain": [
       "<matplotlib.image.AxesImage at 0x24653345550>"
      ]
     },
     "execution_count": 29,
     "metadata": {},
     "output_type": "execute_result"
    },
    {
     "data": {
      "image/png": "[encoded data removed]",
      "text/plain": [
       "<Figure size 432x288 with 1 Axes>"
      ]
     },
     "metadata": {
      "needs_background": "light"
     },
     "output_type": "display_data"
    }
   ],
   "source": [
    "plt.imshow(x_test[2])"
   ]
  },
  {
   "cell_type": "code",
   "execution_count": 30,
   "metadata": {},
   "outputs": [],
   "source": [
    "from sklearn.metrics import confusion_matrix"
   ]
  },
  {
   "cell_type": "code",
   "execution_count": 31,
   "metadata": {},
   "outputs": [
    {
     "data": {
      "text/plain": [
       "(10000,)"
      ]
     },
     "execution_count": 31,
     "metadata": {},
     "output_type": "execute_result"
    }
   ],
   "source": [
    "y_pred.shape"
   ]
  },
  {
   "cell_type": "code",
   "execution_count": 32,
   "metadata": {},
   "outputs": [
    {
     "data": {
      "text/plain": [
       "array([[ 965,    0,    1,    1,    0,    5,    6,    1,    1,    0],\n",
       "       [   0, 1119,    2,    1,    0,    1,    5,    2,    5,    0],\n",
       "       [   8,    2,  977,   11,    4,    1,   11,    9,    7,    2],\n",
       "       [   1,    2,   12,  962,    0,   12,    1,   12,    6,    2],\n",
       "       [   1,    0,    8,    0,  934,    0,    6,    5,    3,   25],\n",
       "       [   9,    3,    1,   19,    5,  828,    8,    4,    8,    7],\n",
       "       [   8,    3,    1,    0,    5,   11,  923,    2,    5,    0],\n",
       "       [   0,    8,   20,    6,    7,    1,    0,  969,    0,   17],\n",
       "       [   5,    2,    5,   17,    9,   11,    9,    8,  903,    5],\n",
       "       [   9,    7,    1,   11,   23,    6,    1,    8,    0,  943]],\n",
       "      dtype=int64)"
      ]
     },
     "execution_count": 32,
     "metadata": {},
     "output_type": "execute_result"
    }
   ],
   "source": [
    "confusion_matrix(test_y,y_pred)"
   ]
  },
  {
   "cell_type": "code",
   "execution_count": 33,
   "metadata": {},
   "outputs": [
    {
     "data": {
      "text/plain": [
       "[<matplotlib.lines.Line2D at 0x246538f53c8>]"
      ]
     },
     "execution_count": 33,
     "metadata": {},
     "output_type": "execute_result"
    },
    {
     "data": {
      "image/png": "[encoded data removed]",
      "text/plain": [
       "<Figure size 432x288 with 1 Axes>"
      ]
     },
     "metadata": {
      "needs_background": "light"
     },
     "output_type": "display_data"
    }
   ],
   "source": [
    "plt.plot(model_history.history['acc'])\n",
    "plt.plot(model_history.history['val_acc'])"
   ]
  },
  {
   "cell_type": "code",
   "execution_count": 34,
   "metadata": {},
   "outputs": [],
   "source": [
    "model.save(\"Self_model_1.h5\")"
   ]
  },
  {
   "cell_type": "code",
   "execution_count": 35,
   "metadata": {},
   "outputs": [],
   "source": [
    "del model\n",
    "keras.backend.clear_session()"
   ]
  },
  {
   "cell_type": "code",
   "execution_count": 36,
   "metadata": {},
   "outputs": [
    {
     "name": "stdout",
     "output_type": "stream",
     "text": [
      "WARNING:tensorflow:From C:\\ProgramData\\Anaconda3\\lib\\site-packages\\tensorflow\\python\\ops\\init_ops.py:97: calling GlorotUniform.__init__ (from tensorflow.python.ops.init_ops) with dtype is deprecated and will be removed in a future version.\n",
      "Instructions for updating:\n",
      "Call initializer instance with the dtype argument instead of passing it to the constructor\n",
      "WARNING:tensorflow:From C:\\ProgramData\\Anaconda3\\lib\\site-packages\\tensorflow\\python\\ops\\init_ops.py:97: calling Zeros.__init__ (from tensorflow.python.ops.init_ops) with dtype is deprecated and will be removed in a future version.\n",
      "Instructions for updating:\n",
      "Call initializer instance with the dtype argument instead of passing it to the constructor\n"
     ]
    }
   ],
   "source": [
    "m = tf.keras.models.load_model(\"Self_model_1.h5\")"
   ]
  },
  {
   "cell_type": "code",
   "execution_count": 37,
   "metadata": {},
   "outputs": [
    {
     "name": "stdout",
     "output_type": "stream",
     "text": [
      "Model: \"sequential\"\n",
      "_________________________________________________________________\n",
      "Layer (type)                 Output Shape              Param #   \n",
      "=================================================================\n",
      "flatten (Flatten)            (None, 784)               0         \n",
      "_________________________________________________________________\n",
      "dense (Dense)                (None, 64)                50240     \n",
      "_________________________________________________________________\n",
      "dense_1 (Dense)              (None, 128)               8320      \n",
      "_________________________________________________________________\n",
      "dense_2 (Dense)              (None, 10)                1290      \n",
      "=================================================================\n",
      "Total params: 59,850\n",
      "Trainable params: 59,850\n",
      "Non-trainable params: 0\n",
      "_________________________________________________________________\n"
     ]
    }
   ],
   "source": [
    "m.summary()"
   ]
  }
 ],
 "metadata": {
  "kernelspec": {
   "display_name": "Python 3",
   "language": "python",
   "name": "python3"
  },
  "language_info": {
   "codemirror_mode": {
    "name": "ipython",
    "version": 3
   },
   "file_extension": ".py",
   "mimetype": "text/x-python",
   "name": "python",
   "nbconvert_exporter": "python",
   "pygments_lexer": "ipython3",
   "version": "3.7.3"
  }
 },
 "nbformat": 4,
 "nbformat_minor": 2
}
